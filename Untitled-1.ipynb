{
 "cells": [
  {
   "cell_type": "code",
   "execution_count": 25,
   "metadata": {},
   "outputs": [],
   "source": [
    "def is_prime(num, divisor=2):\n",
    "    if num < 2:\n",
    "        return 0\n",
    "    if divisor > int(num**0.5):\n",
    "        return 1\n",
    "    if num % divisor == 0:\n",
    "        return 0\n",
    "    return is_prime(num, divisor+1)"
   ]
  },
  {
   "cell_type": "code",
   "execution_count": 26,
   "metadata": {},
   "outputs": [
    {
     "name": "stdout",
     "output_type": "stream",
     "text": [
      "9 is not a prime\n"
     ]
    }
   ],
   "source": [
    "number = 9\n",
    "if is_prime(number):\n",
    "    print(f\"{number} is a prime\")\n",
    "else:\n",
    "    print(f\"{number} is not a prime\") "
   ]
  },
  {
   "cell_type": "code",
   "execution_count": 27,
   "metadata": {},
   "outputs": [],
   "source": [
    "def is_palindrome(num):\n",
    "    return str(num) == str(num)[::-1]"
   ]
  },
  {
   "cell_type": "code",
   "execution_count": 28,
   "metadata": {},
   "outputs": [
    {
     "name": "stdout",
     "output_type": "stream",
     "text": [
      "191 is a prime palindrome\n"
     ]
    }
   ],
   "source": [
    "def is_prime_palindrome(num):\n",
    "    return is_palindrome(num) and is_prime(num)\n",
    "number = 191\n",
    "if is_prime_palindrome(number):\n",
    "    print(f\"{number} is a prime palindrome\")\n",
    "else:\n",
    "    print(f\"{number} is not a prime palindrome\")    "
   ]
  },
  {
   "cell_type": "code",
   "execution_count": null,
   "metadata": {},
   "outputs": [],
   "source": []
  }
 ],
 "metadata": {
  "kernelspec": {
   "display_name": "Python 3",
   "language": "python",
   "name": "python3"
  },
  "language_info": {
   "codemirror_mode": {
    "name": "ipython",
    "version": 3
   },
   "file_extension": ".py",
   "mimetype": "text/x-python",
   "name": "python",
   "nbconvert_exporter": "python",
   "pygments_lexer": "ipython3",
   "version": "3.12.1"
  }
 },
 "nbformat": 4,
 "nbformat_minor": 2
}
