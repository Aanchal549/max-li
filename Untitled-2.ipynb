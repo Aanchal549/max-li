{
 "cells": [
  {
   "cell_type": "code",
   "execution_count": null,
   "metadata": {},
   "outputs": [],
   "source": [
    "def largest_prime_palindrome(limit):\n",
    "    if limit < 2:\n",
    "        return None\n",
    "    if is_palindrome(limit) and is_prime(limit):\n",
    "        return limit\n",
    "    return largest_prime_palindrome(limit -1)"
   ]
  },
  {
   "cell_type": "code",
   "execution_count": null,
   "metadata": {},
   "outputs": [],
   "source": [
    "limit = 1000\n",
    "largest = largest_prime_palindrome(limit)\n",
    "if largest:\n",
    "    print(f\"the largest prime palindrome number below{limit} is: {largest}\")\n",
    "else:\n",
    "    print(f\"no prime palindrome number found below{limit}\")    "
   ]
  }
 ],
 "metadata": {
  "language_info": {
   "name": "python"
  }
 },
 "nbformat": 4,
 "nbformat_minor": 2
}
